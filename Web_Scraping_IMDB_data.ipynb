{
  "nbformat": 4,
  "nbformat_minor": 0,
  "metadata": {
    "colab": {
      "provenance": []
    },
    "kernelspec": {
      "name": "python3",
      "display_name": "Python 3"
    },
    "language_info": {
      "name": "python"
    }
  },
  "cells": [
    {
      "cell_type": "code",
      "execution_count": 76,
      "metadata": {
        "id": "VdbCFSauvlQS"
      },
      "outputs": [],
      "source": [
        "import pandas as pd \n",
        "import requests\n",
        "from bs4 import BeautifulSoup"
      ]
    },
    {
      "cell_type": "code",
      "source": [
        "url = \"https://www.imdb.com/search/title/?count=100&groups=top_1000&sort=user_rating\"\n",
        "response = requests.get(url)\n",
        "soup =  BeautifulSoup(response.content, 'html.parser')\n",
        "#print(soup.prettify)"
      ],
      "metadata": {
        "id": "XlDEyFZSv8Vk"
      },
      "execution_count": 77,
      "outputs": []
    },
    {
      "cell_type": "code",
      "source": [
        "movie_name = []\n",
        "year = []\n",
        "time = []\n",
        "rating = []\n",
        "metascore = []\n",
        "votes = []\n",
        "gross = []\n"
      ],
      "metadata": {
        "id": "YzDpo_05wRCK"
      },
      "execution_count": 78,
      "outputs": []
    },
    {
      "cell_type": "code",
      "source": [
        "movie_data = soup.findAll('div', attrs = {\"class\":\"lister-item mode-advanced\"})"
      ],
      "metadata": {
        "id": "sjglYhxVxdzI"
      },
      "execution_count": 79,
      "outputs": []
    },
    {
      "cell_type": "code",
      "source": [
        "for store in movie_data:\n",
        "  name = store.h3.a.text\n",
        "  movie_name.append(name)\n",
        "\n",
        "  year_of_released = store.h3.find(\"span\",class_=\"lister-item-year text-muted unbold\").text.replace('(','').replace(')','')\n",
        "  year.append(year_of_released)\n",
        "\n",
        "  runtime = store.p.find(\"span\",class_=\"runtime\").text.replace(\"min\",\" \")\n",
        "  time.append(runtime)\n",
        "\n",
        "  rate = store.find(\"div\", class_=\"inline-block ratings-imdb-rating\").text.replace('\\n','')\n",
        "  rating.append(rate)\n",
        "\n",
        "  meta = store.find('span', class_=\"metascore\").text.replace(' ', '') if store.find('span', class_=\"metascore\") else \"***\"\n",
        "  metascore.append(meta)\n",
        "\n",
        "  value = store.find_all('span', attrs={\"name\":\"nv\"})\n",
        "  vote = value[0].text\n",
        "  votes.append(vote)\n",
        "\n",
        "  grosses = value[1].text if len(value)>1 else '###'\n",
        "  gross.append(grosses)"
      ],
      "metadata": {
        "id": "NKJaxCnmxd9L"
      },
      "execution_count": 80,
      "outputs": []
    },
    {
      "cell_type": "code",
      "source": [
        "print(gross)"
      ],
      "metadata": {
        "colab": {
          "base_uri": "https://localhost:8080/"
        },
        "id": "BlbVhjIPxeBu",
        "outputId": "9dba7656-4eac-4f68-ee34-8233d6446c50"
      },
      "execution_count": 81,
      "outputs": [
        {
          "output_type": "stream",
          "name": "stdout",
          "text": [
            "['$28.34M', '$134.97M', '#16', '$534.86M', '$96.90M', '$57.30M', '$4.36M', '$377.85M', '$107.93M', '$292.58M', '$37.03M', '$315.54M', '$330.25M', '$6.10M', '$342.55M', '#235', '###', '###', '$188.02M', '$46.84M', '$171.48M', '$112.00M', '$290.48M', '###', '$136.80M', '$100.13M', '$130.74M', '$322.74M', '$216.54M', '$10.06M', '$204.84M', '$7.56M', '$57.60M', '$0.27M', '#21', '#46', '###', '$53.37M', '$132.38M', '$13.09M', '$19.50M', '$210.61M', '$187.71M', '$53.09M', '$78.90M', '$1.02M', '$422.78M', '$6.72M', '$32.57M', '$23.34M', '$32.00M', '$13.18M', '$5.32M', '#45', '$36.76M', '$11.99M', '$0.16M', '$0.02M', '###', '$190.24M', '$858.37M', '$248.16M', '$678.82M', '$44.02M', '$335.45M', '$162.81M', '$0.71M', '$83.47M', '$25.54M', '$448.14M', '#93', '$85.16M', '$5.02M', '$209.73M', '$223.81M', '$51.97M', '$11.29M', '$1.66M', '$0.28M', '$11.49M', '#60', '$6.53M', '$8.18M', '#61', '$0.29M', '#86', '###', '###', '###', '###', '$718.73M', '$67.44M', '$138.43M', '$120.54M', '$130.10M', '$3.64M', '$75.60M', '$45.60M', '$5.32M', '$56.95M']\n"
          ]
        }
      ]
    },
    {
      "cell_type": "code",
      "source": [
        "movie_DF = pd.DataFrame({\"name_of_movie\":movie_name, \"year_of_released\":year, \"duration\":time, \"rating\":rating,\"metascore\":metascore,\"vote\":votes, \"gross_of_movie\":gross})"
      ],
      "metadata": {
        "id": "wd3N6H1hxeFK"
      },
      "execution_count": 82,
      "outputs": []
    },
    {
      "cell_type": "code",
      "source": [
        "movie_DF.head()"
      ],
      "metadata": {
        "colab": {
          "base_uri": "https://localhost:8080/",
          "height": 250
        },
        "id": "bQhl5WXq9hCb",
        "outputId": "593b3abb-558d-4a9d-88d3-0b3e923d5fde"
      },
      "execution_count": 83,
      "outputs": [
        {
          "output_type": "execute_result",
          "data": {
            "text/plain": [
              "                         name_of_movie year_of_released duration rating  \\\n",
              "0             The Shawshank Redemption             1994    142      9.3   \n",
              "1                        The Godfather             1972    175      9.2   \n",
              "2  Spider-Man: Across the Spider-Verse             2023    140      9.1   \n",
              "3                      The Dark Knight             2008    152      9.0   \n",
              "4                     Schindler's List             1993    195      9.0   \n",
              "\n",
              "  metascore       vote gross_of_movie  \n",
              "0        82  2,747,322        $28.34M  \n",
              "1       100  1,910,782       $134.97M  \n",
              "2        86     50,471            #16  \n",
              "3        84  2,719,947       $534.86M  \n",
              "4        95  1,385,840        $96.90M  "
            ],
            "text/html": [
              "\n",
              "  <div id=\"df-eacbc5ed-2503-4071-94b3-8d85d65725d2\">\n",
              "    <div class=\"colab-df-container\">\n",
              "      <div>\n",
              "<style scoped>\n",
              "    .dataframe tbody tr th:only-of-type {\n",
              "        vertical-align: middle;\n",
              "    }\n",
              "\n",
              "    .dataframe tbody tr th {\n",
              "        vertical-align: top;\n",
              "    }\n",
              "\n",
              "    .dataframe thead th {\n",
              "        text-align: right;\n",
              "    }\n",
              "</style>\n",
              "<table border=\"1\" class=\"dataframe\">\n",
              "  <thead>\n",
              "    <tr style=\"text-align: right;\">\n",
              "      <th></th>\n",
              "      <th>name_of_movie</th>\n",
              "      <th>year_of_released</th>\n",
              "      <th>duration</th>\n",
              "      <th>rating</th>\n",
              "      <th>metascore</th>\n",
              "      <th>vote</th>\n",
              "      <th>gross_of_movie</th>\n",
              "    </tr>\n",
              "  </thead>\n",
              "  <tbody>\n",
              "    <tr>\n",
              "      <th>0</th>\n",
              "      <td>The Shawshank Redemption</td>\n",
              "      <td>1994</td>\n",
              "      <td>142</td>\n",
              "      <td>9.3</td>\n",
              "      <td>82</td>\n",
              "      <td>2,747,322</td>\n",
              "      <td>$28.34M</td>\n",
              "    </tr>\n",
              "    <tr>\n",
              "      <th>1</th>\n",
              "      <td>The Godfather</td>\n",
              "      <td>1972</td>\n",
              "      <td>175</td>\n",
              "      <td>9.2</td>\n",
              "      <td>100</td>\n",
              "      <td>1,910,782</td>\n",
              "      <td>$134.97M</td>\n",
              "    </tr>\n",
              "    <tr>\n",
              "      <th>2</th>\n",
              "      <td>Spider-Man: Across the Spider-Verse</td>\n",
              "      <td>2023</td>\n",
              "      <td>140</td>\n",
              "      <td>9.1</td>\n",
              "      <td>86</td>\n",
              "      <td>50,471</td>\n",
              "      <td>#16</td>\n",
              "    </tr>\n",
              "    <tr>\n",
              "      <th>3</th>\n",
              "      <td>The Dark Knight</td>\n",
              "      <td>2008</td>\n",
              "      <td>152</td>\n",
              "      <td>9.0</td>\n",
              "      <td>84</td>\n",
              "      <td>2,719,947</td>\n",
              "      <td>$534.86M</td>\n",
              "    </tr>\n",
              "    <tr>\n",
              "      <th>4</th>\n",
              "      <td>Schindler's List</td>\n",
              "      <td>1993</td>\n",
              "      <td>195</td>\n",
              "      <td>9.0</td>\n",
              "      <td>95</td>\n",
              "      <td>1,385,840</td>\n",
              "      <td>$96.90M</td>\n",
              "    </tr>\n",
              "  </tbody>\n",
              "</table>\n",
              "</div>\n",
              "      <button class=\"colab-df-convert\" onclick=\"convertToInteractive('df-eacbc5ed-2503-4071-94b3-8d85d65725d2')\"\n",
              "              title=\"Convert this dataframe to an interactive table.\"\n",
              "              style=\"display:none;\">\n",
              "        \n",
              "  <svg xmlns=\"http://www.w3.org/2000/svg\" height=\"24px\"viewBox=\"0 0 24 24\"\n",
              "       width=\"24px\">\n",
              "    <path d=\"M0 0h24v24H0V0z\" fill=\"none\"/>\n",
              "    <path d=\"M18.56 5.44l.94 2.06.94-2.06 2.06-.94-2.06-.94-.94-2.06-.94 2.06-2.06.94zm-11 1L8.5 8.5l.94-2.06 2.06-.94-2.06-.94L8.5 2.5l-.94 2.06-2.06.94zm10 10l.94 2.06.94-2.06 2.06-.94-2.06-.94-.94-2.06-.94 2.06-2.06.94z\"/><path d=\"M17.41 7.96l-1.37-1.37c-.4-.4-.92-.59-1.43-.59-.52 0-1.04.2-1.43.59L10.3 9.45l-7.72 7.72c-.78.78-.78 2.05 0 2.83L4 21.41c.39.39.9.59 1.41.59.51 0 1.02-.2 1.41-.59l7.78-7.78 2.81-2.81c.8-.78.8-2.07 0-2.86zM5.41 20L4 18.59l7.72-7.72 1.47 1.35L5.41 20z\"/>\n",
              "  </svg>\n",
              "      </button>\n",
              "      \n",
              "  <style>\n",
              "    .colab-df-container {\n",
              "      display:flex;\n",
              "      flex-wrap:wrap;\n",
              "      gap: 12px;\n",
              "    }\n",
              "\n",
              "    .colab-df-convert {\n",
              "      background-color: #E8F0FE;\n",
              "      border: none;\n",
              "      border-radius: 50%;\n",
              "      cursor: pointer;\n",
              "      display: none;\n",
              "      fill: #1967D2;\n",
              "      height: 32px;\n",
              "      padding: 0 0 0 0;\n",
              "      width: 32px;\n",
              "    }\n",
              "\n",
              "    .colab-df-convert:hover {\n",
              "      background-color: #E2EBFA;\n",
              "      box-shadow: 0px 1px 2px rgba(60, 64, 67, 0.3), 0px 1px 3px 1px rgba(60, 64, 67, 0.15);\n",
              "      fill: #174EA6;\n",
              "    }\n",
              "\n",
              "    [theme=dark] .colab-df-convert {\n",
              "      background-color: #3B4455;\n",
              "      fill: #D2E3FC;\n",
              "    }\n",
              "\n",
              "    [theme=dark] .colab-df-convert:hover {\n",
              "      background-color: #434B5C;\n",
              "      box-shadow: 0px 1px 3px 1px rgba(0, 0, 0, 0.15);\n",
              "      filter: drop-shadow(0px 1px 2px rgba(0, 0, 0, 0.3));\n",
              "      fill: #FFFFFF;\n",
              "    }\n",
              "  </style>\n",
              "\n",
              "      <script>\n",
              "        const buttonEl =\n",
              "          document.querySelector('#df-eacbc5ed-2503-4071-94b3-8d85d65725d2 button.colab-df-convert');\n",
              "        buttonEl.style.display =\n",
              "          google.colab.kernel.accessAllowed ? 'block' : 'none';\n",
              "\n",
              "        async function convertToInteractive(key) {\n",
              "          const element = document.querySelector('#df-eacbc5ed-2503-4071-94b3-8d85d65725d2');\n",
              "          const dataTable =\n",
              "            await google.colab.kernel.invokeFunction('convertToInteractive',\n",
              "                                                     [key], {});\n",
              "          if (!dataTable) return;\n",
              "\n",
              "          const docLinkHtml = 'Like what you see? Visit the ' +\n",
              "            '<a target=\"_blank\" href=https://colab.research.google.com/notebooks/data_table.ipynb>data table notebook</a>'\n",
              "            + ' to learn more about interactive tables.';\n",
              "          element.innerHTML = '';\n",
              "          dataTable['output_type'] = 'display_data';\n",
              "          await google.colab.output.renderOutput(dataTable, element);\n",
              "          const docLink = document.createElement('div');\n",
              "          docLink.innerHTML = docLinkHtml;\n",
              "          element.appendChild(docLink);\n",
              "        }\n",
              "      </script>\n",
              "    </div>\n",
              "  </div>\n",
              "  "
            ]
          },
          "metadata": {},
          "execution_count": 83
        }
      ]
    },
    {
      "cell_type": "code",
      "source": [
        "movie_DF.to_csv(\"Top1000 IMDB Movies.csv\")"
      ],
      "metadata": {
        "id": "9FtXzHhR9k67"
      },
      "execution_count": 84,
      "outputs": []
    }
  ]
}