{
 "cells": [
  {
   "cell_type": "code",
   "execution_count": 1,
   "id": "bbe2917a",
   "metadata": {
    "ExecuteTime": {
     "end_time": "2023-06-18T11:56:03.636388Z",
     "start_time": "2023-06-18T11:56:02.708906Z"
    }
   },
   "outputs": [
    {
     "name": "stdout",
     "output_type": "stream",
     "text": [
      "                 Company PriceRs. Day HighRs.\n",
      "0      Mazagon Dock Ship   1187.6        1216\n",
      "1        Hindustan Aeron   3844.7        3886\n",
      "2   One97 Communications   895.15       909.9\n",
      "3    Kalyan Jewell.India    131.1       134.9\n",
      "4                    ITC    453.1       455.6\n",
      "5        IDFC First Bank     81.7       82.35\n",
      "6   Apollo Hospital Ent.  5200.05        5294\n",
      "7     Bharat Electronics    125.2      127.25\n",
      "8      Garden Reach Ship    589.9       600.4\n",
      "9               Titan Co   2954.3        2960\n",
      "10      Ultratech Cement  8333.25     8432.15\n",
      "11     Olectra Greentech    926.2       967.7\n",
      "12      Karur Vysya Bank   127.85       129.9\n",
      "13        Britannia Inds   5044.7      5058.6\n",
      "14          Indian Hotel   403.25       404.2\n"
     ]
    }
   ],
   "source": [
    "import requests\n",
    "import pandas as pd\n",
    "from bs4 import BeautifulSoup\n",
    "\n",
    "#url = \"https://prsindia.org/covid-19/cases\"\n",
    "\n",
    "url = \"https://ticker.finology.in/\"\n",
    "\n",
    "#urll = \"https://sports.ndtv.com/ipl-2022/auction\"\n",
    "\n",
    "r = requests.get(url)\n",
    "#print(r)\n",
    "\n",
    "soup = BeautifulSoup(r.text, \"lxml\")\n",
    "\n",
    "table = soup.find(\"table\", class_=\"table table-sm table-hover screenertable\")\n",
    "#print(table)\n",
    "\n",
    "headers = table.find_all(\"th\")\n",
    "#print(headers)\n",
    "\n",
    "titles = []\n",
    "for i in headers:\n",
    "    title = i.text\n",
    "    titles.append(title)\n",
    "    \n",
    "    \n",
    "df =  pd.DataFrame(columns=titles)    \n",
    "#print(df)\n",
    "\n",
    "rows = table.find_all(\"tr\")\n",
    "#print(rows)\n",
    "    \n",
    "for i in rows[1:]:\n",
    "    data = i.find_all(\"td\")\n",
    "    #print(data)\n",
    "    row = [tr.text.strip() for tr in data]\n",
    "    #print(row)\n",
    "    length  = len(df)\n",
    "    df.loc[length] = row\n",
    "    \n",
    "print(df)\n",
    "\n",
    "df.to_csv('Stock_market_data')\n",
    "   \n",
    "\n"
   ]
  },
  {
   "cell_type": "code",
   "execution_count": null,
   "id": "3c31d246",
   "metadata": {},
   "outputs": [],
   "source": []
  }
 ],
 "metadata": {
  "gist": {
   "data": {
    "description": "Table scraping.ipynb",
    "public": true
   },
   "id": ""
  },
  "kernelspec": {
   "display_name": "Python 3 (ipykernel)",
   "language": "python",
   "name": "python3"
  },
  "language_info": {
   "codemirror_mode": {
    "name": "ipython",
    "version": 3
   },
   "file_extension": ".py",
   "mimetype": "text/x-python",
   "name": "python",
   "nbconvert_exporter": "python",
   "pygments_lexer": "ipython3",
   "version": "3.9.12"
  }
 },
 "nbformat": 4,
 "nbformat_minor": 5
}
