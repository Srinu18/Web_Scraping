{
 "cells": [
  {
   "cell_type": "markdown",
   "id": "6927ae8b",
   "metadata": {},
   "source": [
    "**Importing required python libraries**"
   ]
  },
  {
   "cell_type": "code",
   "execution_count": 1,
   "id": "d1a90c2c",
   "metadata": {
    "ExecuteTime": {
     "end_time": "2023-06-05T17:42:25.392628Z",
     "start_time": "2023-06-05T17:42:17.612424Z"
    }
   },
   "outputs": [
    {
     "name": "stdout",
     "output_type": "stream",
     "text": [
      "Collecting bs4\n",
      "  Downloading bs4-0.0.1.tar.gz (1.1 kB)\n",
      "Requirement already satisfied: beautifulsoup4 in c:\\anacoda\\lib\\site-packages (from bs4) (4.11.1)\n",
      "Requirement already satisfied: soupsieve>1.2 in c:\\anacoda\\lib\\site-packages (from beautifulsoup4->bs4) (2.3.1)\n",
      "Building wheels for collected packages: bs4\n",
      "  Building wheel for bs4 (setup.py): started\n",
      "  Building wheel for bs4 (setup.py): finished with status 'done'\n",
      "  Created wheel for bs4: filename=bs4-0.0.1-py3-none-any.whl size=1272 sha256=86e38d00a5e94faa96cdb28669fd48537d88dba2b475b44fd17e2771f306909e\n",
      "  Stored in directory: c:\\users\\srinu\\appdata\\local\\pip\\cache\\wheels\\73\\2b\\cb\\099980278a0c9a3e57ff1a89875ec07bfa0b6fcbebb9a8cad3\n",
      "Successfully built bs4\n",
      "Installing collected packages: bs4\n",
      "Successfully installed bs4-0.0.1\n"
     ]
    }
   ],
   "source": [
    "!pip install bs4"
   ]
  },
  {
   "cell_type": "code",
   "execution_count": 2,
   "id": "925ce9f7",
   "metadata": {
    "ExecuteTime": {
     "end_time": "2023-06-05T17:42:58.097259Z",
     "start_time": "2023-06-05T17:42:44.954363Z"
    }
   },
   "outputs": [],
   "source": [
    "import pandas as pd\n",
    "import numpy as np\n",
    "import matplotlib.pyplot as plt\n",
    "import seaborn as sns\n",
    "import requests\n",
    "from bs4 import BeautifulSoup"
   ]
  },
  {
   "cell_type": "code",
   "execution_count": 3,
   "id": "b113721d",
   "metadata": {
    "ExecuteTime": {
     "end_time": "2023-06-05T17:43:12.180316Z",
     "start_time": "2023-06-05T17:43:12.163897Z"
    }
   },
   "outputs": [],
   "source": [
    "url = 'https://www.flipkart.com/search?q=laptops&otracker=search&otracker1=search&marketplace=FLIPKART&as-show=on&as=off'"
   ]
  },
  {
   "cell_type": "code",
   "execution_count": 4,
   "id": "42ceab24",
   "metadata": {
    "ExecuteTime": {
     "end_time": "2023-06-05T17:44:15.305004Z",
     "start_time": "2023-06-05T17:44:14.520578Z"
    }
   },
   "outputs": [],
   "source": [
    "response = requests.get(url)"
   ]
  },
  {
   "cell_type": "code",
   "execution_count": 8,
   "id": "a1ec25e9",
   "metadata": {
    "ExecuteTime": {
     "end_time": "2023-06-05T17:46:21.689058Z",
     "start_time": "2023-06-05T17:46:21.630821Z"
    }
   },
   "outputs": [],
   "source": [
    "soup = BeautifulSoup(response.content,'html.parser')\n",
    "#print(soup.prettify)"
   ]
  },
  {
   "cell_type": "markdown",
   "id": "82cab4c3",
   "metadata": {},
   "source": [
    "**To find Brand Name, Ratings, Price and Features of the product**"
   ]
  },
  {
   "cell_type": "markdown",
   "id": "5cfbe5bd",
   "metadata": {},
   "source": [
    "**Price**"
   ]
  },
  {
   "cell_type": "code",
   "execution_count": 20,
   "id": "cb0fee88",
   "metadata": {
    "ExecuteTime": {
     "end_time": "2023-06-05T17:58:29.526288Z",
     "start_time": "2023-06-05T17:58:29.503215Z"
    }
   },
   "outputs": [
    {
     "name": "stdout",
     "output_type": "stream",
     "text": [
      "₹34,990\n"
     ]
    }
   ],
   "source": [
    "prices = soup.find(\"div\", class_=\"_30jeq3 _1_WHN1\")\n",
    "for p in prices:\n",
    "    print(p.text)"
   ]
  },
  {
   "cell_type": "markdown",
   "id": "d4ddb5a5",
   "metadata": {},
   "source": [
    "**Brand_name**"
   ]
  },
  {
   "cell_type": "code",
   "execution_count": 22,
   "id": "5be7af3d",
   "metadata": {
    "ExecuteTime": {
     "end_time": "2023-06-05T17:59:05.162772Z",
     "start_time": "2023-06-05T17:59:05.146292Z"
    }
   },
   "outputs": [
    {
     "name": "stdout",
     "output_type": "stream",
     "text": [
      "ASUS Vivobook 15 Core i3 11th Gen - (8 GB/512 GB SSD/Windows 11 Home) X515EA-EJ322WS | X515EA-EJ328WS ...\n"
     ]
    }
   ],
   "source": [
    "brand_names = soup.find(\"div\", class_=\"_4rR01T\")\n",
    "for brands in brand_names:\n",
    "    print(brands.text)"
   ]
  },
  {
   "cell_type": "markdown",
   "id": "8e5377fd",
   "metadata": {},
   "source": [
    "**Ratings**"
   ]
  },
  {
   "cell_type": "code",
   "execution_count": 23,
   "id": "c222c859",
   "metadata": {
    "ExecuteTime": {
     "end_time": "2023-06-05T17:59:40.934260Z",
     "start_time": "2023-06-05T17:59:40.910335Z"
    }
   },
   "outputs": [
    {
     "name": "stdout",
     "output_type": "stream",
     "text": [
      "4.2\n",
      "4.2\n"
     ]
    }
   ],
   "source": [
    "ratings = soup.find(\"div\", class_=\"_3LWZlK\")\n",
    "for rating in ratings:\n",
    "    print(ratings.text)"
   ]
  },
  {
   "cell_type": "markdown",
   "id": "c56350df",
   "metadata": {},
   "source": [
    "**Features**"
   ]
  },
  {
   "cell_type": "code",
   "execution_count": 24,
   "id": "f3bd7391",
   "metadata": {
    "ExecuteTime": {
     "end_time": "2023-06-05T18:00:06.807934Z",
     "start_time": "2023-06-05T18:00:06.799876Z"
    },
    "scrolled": true
   },
   "outputs": [
    {
     "name": "stdout",
     "output_type": "stream",
     "text": [
      "Intel Core i3 Processor (11th Gen)8 GB DDR4 RAM64 bit Windows 11 Operating System512 GB SSD39.62 cm (15.6 Inch) Display1 Year Onsite Warranty\n",
      "Intel Core i3 Processor (11th Gen)8 GB DDR4 RAM64 bit Windows 11 Operating System512 GB SSD39.62 cm (15.6 Inch) Display1 Year Onsite Warranty\n",
      "Intel Core i3 Processor (11th Gen)8 GB DDR4 RAM64 bit Windows 11 Operating System512 GB SSD39.62 cm (15.6 Inch) Display1 Year Onsite Warranty\n",
      "Intel Core i3 Processor (11th Gen)8 GB DDR4 RAM64 bit Windows 11 Operating System512 GB SSD39.62 cm (15.6 Inch) Display1 Year Onsite Warranty\n",
      "Intel Core i3 Processor (11th Gen)8 GB DDR4 RAM64 bit Windows 11 Operating System512 GB SSD39.62 cm (15.6 Inch) Display1 Year Onsite Warranty\n",
      "Intel Core i3 Processor (11th Gen)8 GB DDR4 RAM64 bit Windows 11 Operating System512 GB SSD39.62 cm (15.6 Inch) Display1 Year Onsite Warranty\n"
     ]
    }
   ],
   "source": [
    "Features = soup.find(\"ul\", class_=\"_1xgFaf\")\n",
    "for features in Features:\n",
    "    \n",
    "    print(Features.text)"
   ]
  },
  {
   "cell_type": "code",
   "execution_count": 25,
   "id": "074ade56",
   "metadata": {
    "ExecuteTime": {
     "end_time": "2023-06-05T18:01:19.505921Z",
     "start_time": "2023-06-05T18:01:19.490759Z"
    }
   },
   "outputs": [
    {
     "name": "stdout",
     "output_type": "stream",
     "text": [
      "https://www.flipkart.com/search?q=laptops&otracker=search&otracker1=search&marketplace=FLIPKART&as-show=on&as=off\n",
      "https://www.flipkart.com/search?q=laptops&otracker=search&otracker1=search&marketplace=FLIPKART&as-show=on&as=off\n",
      "https://www.flipkart.com/search?q=laptops&otracker=search&otracker1=search&marketplace=FLIPKART&as-show=on&as=off\n",
      "https://www.flipkart.com/search?q=laptops&otracker=search&otracker1=search&marketplace=FLIPKART&as-show=on&as=off\n",
      "https://www.flipkart.com/search?q=laptops&otracker=search&otracker1=search&marketplace=FLIPKART&as-show=on&as=off\n",
      "https://www.flipkart.com/search?q=laptops&otracker=search&otracker1=search&marketplace=FLIPKART&as-show=on&as=off\n",
      "https://www.flipkart.com/search?q=laptops&otracker=search&otracker1=search&marketplace=FLIPKART&as-show=on&as=off\n",
      "https://www.flipkart.com/search?q=laptops&otracker=search&otracker1=search&marketplace=FLIPKART&as-show=on&as=off\n",
      "https://www.flipkart.com/search?q=laptops&otracker=search&otracker1=search&marketplace=FLIPKART&as-show=on&as=off\n",
      "https://www.flipkart.com/search?q=laptops&otracker=search&otracker1=search&marketplace=FLIPKART&as-show=on&as=off\n",
      "https://www.flipkart.com/search?q=laptops&otracker=search&otracker1=search&marketplace=FLIPKART&as-show=on&as=off\n",
      "https://www.flipkart.com/search?q=laptops&otracker=search&otracker1=search&marketplace=FLIPKART&as-show=on&as=off\n",
      "https://www.flipkart.com/search?q=laptops&otracker=search&otracker1=search&marketplace=FLIPKART&as-show=on&as=off\n",
      "https://www.flipkart.com/search?q=laptops&otracker=search&otracker1=search&marketplace=FLIPKART&as-show=on&as=off\n",
      "https://www.flipkart.com/search?q=laptops&otracker=search&otracker1=search&marketplace=FLIPKART&as-show=on&as=off\n",
      "https://www.flipkart.com/search?q=laptops&otracker=search&otracker1=search&marketplace=FLIPKART&as-show=on&as=off\n",
      "https://www.flipkart.com/search?q=laptops&otracker=search&otracker1=search&marketplace=FLIPKART&as-show=on&as=off\n",
      "https://www.flipkart.com/search?q=laptops&otracker=search&otracker1=search&marketplace=FLIPKART&as-show=on&as=off\n",
      "https://www.flipkart.com/search?q=laptops&otracker=search&otracker1=search&marketplace=FLIPKART&as-show=on&as=off\n",
      "https://www.flipkart.com/search?q=laptops&otracker=search&otracker1=search&marketplace=FLIPKART&as-show=on&as=off\n",
      "https://www.flipkart.com/search?q=laptops&otracker=search&otracker1=search&marketplace=FLIPKART&as-show=on&as=off\n",
      "https://www.flipkart.com/search?q=laptops&otracker=search&otracker1=search&marketplace=FLIPKART&as-show=on&as=off\n",
      "https://www.flipkart.com/search?q=laptops&otracker=search&otracker1=search&marketplace=FLIPKART&as-show=on&as=off\n",
      "https://www.flipkart.com/search?q=laptops&otracker=search&otracker1=search&marketplace=FLIPKART&as-show=on&as=off\n",
      "https://www.flipkart.com/search?q=laptops&otracker=search&otracker1=search&marketplace=FLIPKART&as-show=on&as=off\n",
      "https://www.flipkart.com/search?q=laptops&otracker=search&otracker1=search&marketplace=FLIPKART&as-show=on&as=off\n",
      "https://www.flipkart.com/search?q=laptops&otracker=search&otracker1=search&marketplace=FLIPKART&as-show=on&as=off\n",
      "https://www.flipkart.com/search?q=laptops&otracker=search&otracker1=search&marketplace=FLIPKART&as-show=on&as=off\n",
      "https://www.flipkart.com/search?q=laptops&otracker=search&otracker1=search&marketplace=FLIPKART&as-show=on&as=off\n",
      "https://www.flipkart.com/search?q=laptops&otracker=search&otracker1=search&marketplace=FLIPKART&as-show=on&as=off\n",
      "https://www.flipkart.com/search?q=laptops&otracker=search&otracker1=search&marketplace=FLIPKART&as-show=on&as=off\n",
      "https://www.flipkart.com/search?q=laptops&otracker=search&otracker1=search&marketplace=FLIPKART&as-show=on&as=off\n",
      "https://www.flipkart.com/search?q=laptops&otracker=search&otracker1=search&marketplace=FLIPKART&as-show=on&as=off\n",
      "https://www.flipkart.com/search?q=laptops&otracker=search&otracker1=search&marketplace=FLIPKART&as-show=on&as=off\n",
      "https://www.flipkart.com/search?q=laptops&otracker=search&otracker1=search&marketplace=FLIPKART&as-show=on&as=off\n",
      "https://www.flipkart.com/search?q=laptops&otracker=search&otracker1=search&marketplace=FLIPKART&as-show=on&as=off\n",
      "https://www.flipkart.com/search?q=laptops&otracker=search&otracker1=search&marketplace=FLIPKART&as-show=on&as=off\n",
      "https://www.flipkart.com/search?q=laptops&otracker=search&otracker1=search&marketplace=FLIPKART&as-show=on&as=off\n",
      "https://www.flipkart.com/search?q=laptops&otracker=search&otracker1=search&marketplace=FLIPKART&as-show=on&as=off\n",
      "https://www.flipkart.com/search?q=laptops&otracker=search&otracker1=search&marketplace=FLIPKART&as-show=on&as=off\n",
      "https://www.flipkart.com/search?q=laptops&otracker=search&otracker1=search&marketplace=FLIPKART&as-show=on&as=off\n",
      "https://www.flipkart.com/search?q=laptops&otracker=search&otracker1=search&marketplace=FLIPKART&as-show=on&as=off\n",
      "https://www.flipkart.com/search?q=laptops&otracker=search&otracker1=search&marketplace=FLIPKART&as-show=on&as=off\n",
      "https://www.flipkart.com/search?q=laptops&otracker=search&otracker1=search&marketplace=FLIPKART&as-show=on&as=off\n",
      "https://www.flipkart.com/search?q=laptops&otracker=search&otracker1=search&marketplace=FLIPKART&as-show=on&as=off\n",
      "https://www.flipkart.com/search?q=laptops&otracker=search&otracker1=search&marketplace=FLIPKART&as-show=on&as=off\n",
      "https://www.flipkart.com/search?q=laptops&otracker=search&otracker1=search&marketplace=FLIPKART&as-show=on&as=off\n",
      "https://www.flipkart.com/search?q=laptops&otracker=search&otracker1=search&marketplace=FLIPKART&as-show=on&as=off\n",
      "https://www.flipkart.com/search?q=laptops&otracker=search&otracker1=search&marketplace=FLIPKART&as-show=on&as=off\n",
      "https://www.flipkart.com/search?q=laptops&otracker=search&otracker1=search&marketplace=FLIPKART&as-show=on&as=off\n",
      "https://www.flipkart.com/search?q=laptops&otracker=search&otracker1=search&marketplace=FLIPKART&as-show=on&as=off\n",
      "https://www.flipkart.com/search?q=laptops&otracker=search&otracker1=search&marketplace=FLIPKART&as-show=on&as=off\n",
      "https://www.flipkart.com/search?q=laptops&otracker=search&otracker1=search&marketplace=FLIPKART&as-show=on&as=off\n",
      "https://www.flipkart.com/search?q=laptops&otracker=search&otracker1=search&marketplace=FLIPKART&as-show=on&as=off\n",
      "https://www.flipkart.com/search?q=laptops&otracker=search&otracker1=search&marketplace=FLIPKART&as-show=on&as=off\n",
      "https://www.flipkart.com/search?q=laptops&otracker=search&otracker1=search&marketplace=FLIPKART&as-show=on&as=off\n",
      "https://www.flipkart.com/search?q=laptops&otracker=search&otracker1=search&marketplace=FLIPKART&as-show=on&as=off\n",
      "https://www.flipkart.com/search?q=laptops&otracker=search&otracker1=search&marketplace=FLIPKART&as-show=on&as=off\n",
      "https://www.flipkart.com/search?q=laptops&otracker=search&otracker1=search&marketplace=FLIPKART&as-show=on&as=off\n",
      "https://www.flipkart.com/search?q=laptops&otracker=search&otracker1=search&marketplace=FLIPKART&as-show=on&as=off\n",
      "https://www.flipkart.com/search?q=laptops&otracker=search&otracker1=search&marketplace=FLIPKART&as-show=on&as=off\n",
      "https://www.flipkart.com/search?q=laptops&otracker=search&otracker1=search&marketplace=FLIPKART&as-show=on&as=off\n",
      "https://www.flipkart.com/search?q=laptops&otracker=search&otracker1=search&marketplace=FLIPKART&as-show=on&as=off\n",
      "https://www.flipkart.com/search?q=laptops&otracker=search&otracker1=search&marketplace=FLIPKART&as-show=on&as=off\n",
      "https://www.flipkart.com/search?q=laptops&otracker=search&otracker1=search&marketplace=FLIPKART&as-show=on&as=off\n"
     ]
    }
   ],
   "source": [
    "for i in range(1,66):\n",
    "    print(url)"
   ]
  },
  {
   "cell_type": "code",
   "execution_count": 26,
   "id": "948081f3",
   "metadata": {
    "ExecuteTime": {
     "end_time": "2023-06-05T18:01:42.962243Z",
     "start_time": "2023-06-05T18:01:42.946244Z"
    }
   },
   "outputs": [],
   "source": [
    "title = []\n",
    "rating = []\n",
    "price = []\n",
    "features = []"
   ]
  },
  {
   "cell_type": "code",
   "execution_count": 27,
   "id": "47b474d8",
   "metadata": {
    "ExecuteTime": {
     "end_time": "2023-06-05T18:10:18.665511Z",
     "start_time": "2023-06-05T18:09:40.079744Z"
    }
   },
   "outputs": [
    {
     "name": "stdout",
     "output_type": "stream",
     "text": [
      "1560\n",
      "1560\n",
      "1560\n",
      "1560\n"
     ]
    }
   ],
   "source": [
    "for i in range(1,66):\n",
    "  URL = 'https://www.flipkart.com/search?q=laptops&otracker=search&otracker1=search&marketplace=FLIPKART&as-show=off&as=off&page={}'.format(i)\n",
    "\n",
    "  all_pages = requests.get(URL)\n",
    "  htmlCode = all_pages.text\n",
    "\n",
    "  soup = BeautifulSoup(response.content, 'html.parser')\n",
    "\n",
    "\n",
    "  for x in soup.find_all('div', class_='_2kHMtA'):\n",
    "    ratings = x.find('div', class_ ='_3LWZlK')\n",
    "    if ratings is None:\n",
    "      rating.append(np.NaN)\n",
    "    else:\n",
    "      rating.append(ratings.text)\n",
    "\n",
    "\n",
    "    brand_names = x.find('div', class_='_4rR01T')\n",
    "    if brand_names is None:\n",
    "      title.append(np.NaN)\n",
    "    else:\n",
    "      title.append(brand_names.text)\n",
    "\n",
    "\n",
    "    prices = x.find('div', class_='_30jeq3 _1_WHN1')\n",
    "    if prices is None:\n",
    "       price.append(np.NaN)\n",
    "    else:\n",
    "       price.append(prices.text)\n",
    "\n",
    "    Features = x.find('ul', class_='_1xgFaf')\n",
    "    if Features is None:\n",
    "        features.append(np.NaN)\n",
    "    else:\n",
    "        features.append(Features.text)\n",
    "\n",
    "\n",
    "print(len(title))\n",
    "print(len(rating))\n",
    "print(len(features))\n",
    "print(len(price))"
   ]
  },
  {
   "cell_type": "code",
   "execution_count": 29,
   "id": "064dcffa",
   "metadata": {
    "ExecuteTime": {
     "end_time": "2023-06-05T18:10:28.666075Z",
     "start_time": "2023-06-05T18:10:28.633946Z"
    }
   },
   "outputs": [
    {
     "name": "stdout",
     "output_type": "stream",
     "text": [
      "(1560, 4)\n",
      "<class 'pandas.core.frame.DataFrame'>\n",
      "RangeIndex: 1560 entries, 0 to 1559\n",
      "Data columns (total 4 columns):\n",
      " #   Column   Non-Null Count  Dtype \n",
      "---  ------   --------------  ----- \n",
      " 0   Product  1560 non-null   object\n",
      " 1   Rating   1560 non-null   object\n",
      " 2   Price    1560 non-null   object\n",
      " 3   Feature  1560 non-null   object\n",
      "dtypes: object(4)\n",
      "memory usage: 48.9+ KB\n",
      "None\n"
     ]
    }
   ],
   "source": [
    "#saving data into csv file\n",
    "\n",
    "df = pd.DataFrame({'Product': title, 'Rating' : rating, 'Price' : price, 'Feature' : features})\n",
    "print(df.shape)\n",
    "print(df.info())"
   ]
  },
  {
   "cell_type": "code",
   "execution_count": 30,
   "id": "562345bf",
   "metadata": {
    "ExecuteTime": {
     "end_time": "2023-06-05T18:10:29.451738Z",
     "start_time": "2023-06-05T18:10:29.423444Z"
    }
   },
   "outputs": [
    {
     "data": {
      "text/html": [
       "<div>\n",
       "<style scoped>\n",
       "    .dataframe tbody tr th:only-of-type {\n",
       "        vertical-align: middle;\n",
       "    }\n",
       "\n",
       "    .dataframe tbody tr th {\n",
       "        vertical-align: top;\n",
       "    }\n",
       "\n",
       "    .dataframe thead th {\n",
       "        text-align: right;\n",
       "    }\n",
       "</style>\n",
       "<table border=\"1\" class=\"dataframe\">\n",
       "  <thead>\n",
       "    <tr style=\"text-align: right;\">\n",
       "      <th></th>\n",
       "      <th>Product</th>\n",
       "      <th>Rating</th>\n",
       "      <th>Price</th>\n",
       "      <th>Feature</th>\n",
       "    </tr>\n",
       "  </thead>\n",
       "  <tbody>\n",
       "    <tr>\n",
       "      <th>0</th>\n",
       "      <td>ASUS Vivobook 15 Core i3 11th Gen - (8 GB/512 ...</td>\n",
       "      <td>4.2</td>\n",
       "      <td>₹34,990</td>\n",
       "      <td>Intel Core i3 Processor (11th Gen)8 GB DDR4 RA...</td>\n",
       "    </tr>\n",
       "    <tr>\n",
       "      <th>1</th>\n",
       "      <td>ASUS Vivobook 15 Core i5 11th Gen - (8 GB/512 ...</td>\n",
       "      <td>4.2</td>\n",
       "      <td>₹44,990</td>\n",
       "      <td>Intel Core i5 Processor (11th Gen)8 GB DDR4 RA...</td>\n",
       "    </tr>\n",
       "    <tr>\n",
       "      <th>2</th>\n",
       "      <td>APPLE 2020 Macbook Air M1 - (8 GB/256 GB SSD/M...</td>\n",
       "      <td>4.7</td>\n",
       "      <td>₹79,990</td>\n",
       "      <td>Apple M1 Processor8 GB DDR4 RAMMac OS Operatin...</td>\n",
       "    </tr>\n",
       "    <tr>\n",
       "      <th>3</th>\n",
       "      <td>ASUS TUF Gaming A15 Ryzen 5 Hexa Core AMD R5-4...</td>\n",
       "      <td>4.4</td>\n",
       "      <td>₹65,990</td>\n",
       "      <td>AMD Ryzen 5 Hexa Core Processor8 GB DDR4 RAM64...</td>\n",
       "    </tr>\n",
       "    <tr>\n",
       "      <th>4</th>\n",
       "      <td>HP 14s Intel Core i3 11th Gen - (8 GB/512 GB S...</td>\n",
       "      <td>4.3</td>\n",
       "      <td>₹38,990</td>\n",
       "      <td>Intel Core i3 Processor (11th Gen)8 GB DDR4 RA...</td>\n",
       "    </tr>\n",
       "  </tbody>\n",
       "</table>\n",
       "</div>"
      ],
      "text/plain": [
       "                                             Product Rating    Price  \\\n",
       "0  ASUS Vivobook 15 Core i3 11th Gen - (8 GB/512 ...    4.2  ₹34,990   \n",
       "1  ASUS Vivobook 15 Core i5 11th Gen - (8 GB/512 ...    4.2  ₹44,990   \n",
       "2  APPLE 2020 Macbook Air M1 - (8 GB/256 GB SSD/M...    4.7  ₹79,990   \n",
       "3  ASUS TUF Gaming A15 Ryzen 5 Hexa Core AMD R5-4...    4.4  ₹65,990   \n",
       "4  HP 14s Intel Core i3 11th Gen - (8 GB/512 GB S...    4.3  ₹38,990   \n",
       "\n",
       "                                             Feature  \n",
       "0  Intel Core i3 Processor (11th Gen)8 GB DDR4 RA...  \n",
       "1  Intel Core i5 Processor (11th Gen)8 GB DDR4 RA...  \n",
       "2  Apple M1 Processor8 GB DDR4 RAMMac OS Operatin...  \n",
       "3  AMD Ryzen 5 Hexa Core Processor8 GB DDR4 RAM64...  \n",
       "4  Intel Core i3 Processor (11th Gen)8 GB DDR4 RA...  "
      ]
     },
     "execution_count": 30,
     "metadata": {},
     "output_type": "execute_result"
    }
   ],
   "source": [
    "df.head()"
   ]
  },
  {
   "cell_type": "code",
   "execution_count": 31,
   "id": "cfcbc576",
   "metadata": {
    "ExecuteTime": {
     "end_time": "2023-06-05T18:10:44.686390Z",
     "start_time": "2023-06-05T18:10:44.655657Z"
    }
   },
   "outputs": [],
   "source": [
    "df.to_csv('Flipkart-Laptop Data.csv', index = False)"
   ]
  },
  {
   "cell_type": "code",
   "execution_count": null,
   "id": "119590da",
   "metadata": {},
   "outputs": [],
   "source": []
  }
 ],
 "metadata": {
  "kernelspec": {
   "display_name": "Python 3 (ipykernel)",
   "language": "python",
   "name": "python3"
  },
  "language_info": {
   "codemirror_mode": {
    "name": "ipython",
    "version": 3
   },
   "file_extension": ".py",
   "mimetype": "text/x-python",
   "name": "python",
   "nbconvert_exporter": "python",
   "pygments_lexer": "ipython3",
   "version": "3.9.12"
  }
 },
 "nbformat": 4,
 "nbformat_minor": 5
}
